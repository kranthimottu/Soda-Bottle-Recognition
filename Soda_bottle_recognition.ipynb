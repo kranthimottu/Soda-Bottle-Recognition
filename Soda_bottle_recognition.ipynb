{
 "cells": [
  {
   "cell_type": "code",
   "execution_count": 1,
   "metadata": {
    "scrolled": true
   },
   "outputs": [
    {
     "name": "stdout",
     "output_type": "stream",
     "text": [
      "curses is not supported on this machine (please install/reinstall curses for an optimal experience)\n"
     ]
    }
   ],
   "source": [
    "import cv2\n",
    "import numpy as np\n",
    "import tensorflow as tf\n",
    "import matplotlib.pyplot as plt\n",
    "import tflearn\n",
    "from tflearn.layers.conv import conv_2d, max_pool_2d\n",
    "from tflearn.layers.core import input_data, dropout, fully_connected, reshape, flatten\n",
    "from tflearn.layers.estimator import regression\n",
    "%matplotlib inline"
   ]
  },
  {
   "cell_type": "code",
   "execution_count": 2,
   "metadata": {},
   "outputs": [],
   "source": [
    "MODEL_NAME = 'Soda_bottle_recognition'\n",
    "IMG_SIZE = 128"
   ]
  },
  {
   "cell_type": "code",
   "execution_count": 4,
   "metadata": {},
   "outputs": [],
   "source": [
    "import pandas as pd\n",
    "from sklearn.utils import shuffle\n",
    "df = pd.read_csv(\"train.csv\")\n",
    "df = shuffle(df)"
   ]
  },
  {
   "cell_type": "code",
   "execution_count": 3,
   "metadata": {},
   "outputs": [],
   "source": [
    "def convert_label_names(label):\n",
    "    if label == 'M.Beer':\n",
    "        return np.array([1,0,0,0,0,0,0,0])\n",
    "    elif label == 'MD.Diet':\n",
    "        return np.array([0,2,0,0,0,0,0,0])\n",
    "    elif label == 'MD.Orig':\n",
    "        return np.array([0,0,3,0,0,0,0,0])\n",
    "    elif label == 'P.Cherry':\n",
    "        return np.array([0,0,0,4,0,0,0,0])\n",
    "    elif label == 'P.diet':\n",
    "        return np.array([0,0,0,0,5,0,0,0])\n",
    "    elif label == 'P.Orig':\n",
    "        return np.array([0,0,0,0,0,6,0,0])\n",
    "    elif label == 'P.Rsugar':\n",
    "        return np.array([0,0,0,0,0,0,7,0])\n",
    "    elif label == 'P.Zero':\n",
    "        return np.array([0,0,0,0,0,0,0,8])"
   ]
  },
  {
   "cell_type": "code",
   "execution_count": 5,
   "metadata": {},
   "outputs": [],
   "source": [
    "def create_data():\n",
    "    data = []\n",
    "    for i, row in df.iterrows():\n",
    "        img_data = cv2.imread(row.Filename, cv2.IMREAD_GRAYSCALE)\n",
    "        img_data = cv2.resize(img_data, (IMG_SIZE, IMG_SIZE))\n",
    "        data.append([np.array(img_data), convert_label_names(row.Label)])\n",
    "    np.save('train_data.npy', data)\n",
    "    return data"
   ]
  },
  {
   "cell_type": "code",
   "execution_count": 6,
   "metadata": {},
   "outputs": [],
   "source": [
    "data = create_data()\n",
    "\n",
    "#data = np.load('train_data.npy')"
   ]
  },
  {
   "cell_type": "code",
   "execution_count": 7,
   "metadata": {},
   "outputs": [],
   "source": [
    "train_data = data[:-1323]\n",
    "test_data = data[-1323:]\n",
    "\n",
    "X_train = np.array([i[0] for i in train_data]).reshape(-1, IMG_SIZE, IMG_SIZE, 1)\n",
    "#X_train = np.array([i[0] for i in train_data])\n",
    "y_train = [i[1] for i in train_data]\n",
    "\n",
    "X_test = np.array([i[0] for i in test_data]).reshape(-1, IMG_SIZE, IMG_SIZE, 1)\n",
    "#X_test = np.array([i[0] for i in test_data])\n",
    "y_test = [i[1] for i in test_data]\n"
   ]
  },
  {
   "cell_type": "code",
   "execution_count": 8,
   "metadata": {},
   "outputs": [
    {
     "name": "stdout",
     "output_type": "stream",
     "text": [
      "Training Step: 1019  | total loss: \u001b[1m\u001b[32m0.19342\u001b[0m\u001b[0m | time: 145.021s\n",
      "| Adam | epoch: 010 | loss: 0.19342 - acc: 0.9867 -- iter: 5252/5292\n",
      "Training Step: 1020  | total loss: \u001b[1m\u001b[32m0.19336\u001b[0m\u001b[0m | time: 148.853s\n",
      "| Adam | epoch: 010 | loss: 0.19336 - acc: 0.9842 | val_loss: 0.51517 - val_acc: 0.9788 -- iter: 5292/5292\n",
      "--\n"
     ]
    }
   ],
   "source": [
    "tf.reset_default_graph()\n",
    "\n",
    "convnet = input_data(shape=[None, IMG_SIZE, IMG_SIZE, 1], name='input')\n",
    "convnet = conv_2d(convnet, 32, 5, activation='relu')\n",
    "convnet = max_pool_2d(convnet, 2)\n",
    "convnet = conv_2d(convnet, 64, 5, activation='relu')\n",
    "convnet = max_pool_2d(convnet, 2)\n",
    "convnet = conv_2d(convnet, 128, 5, activation='relu')\n",
    "convnet = max_pool_2d(convnet, 2)\n",
    "convnet = conv_2d(convnet, 64, 5, activation='relu')\n",
    "convnet = max_pool_2d(convnet, 2)\n",
    "convnet = conv_2d(convnet, 32, 5, activation='relu')\n",
    "convnet = max_pool_2d(convnet, 2)\n",
    "\n",
    "convnet = fully_connected(convnet, 512, activation='relu')\n",
    "convnet = dropout(convnet, 0.5)\n",
    "convnet = fully_connected(convnet, 8, activation='softmax')\n",
    "convnet = regression(convnet, optimizer='adam', learning_rate=1e-3, loss='categorical_crossentropy', name='targets')\n",
    "\n",
    "model = tflearn.DNN(convnet, tensorboard_dir='log', tensorboard_verbose=0)\n",
    "model.fit({'input': X_train}, {'targets': y_train}, n_epoch=10, \n",
    "          validation_set=({'input': X_test}, {'targets': y_test}), \n",
    "          batch_size=52, show_metric=True, run_id=MODEL_NAME)"
   ]
  },
  {
   "cell_type": "code",
   "execution_count": 9,
   "metadata": {},
   "outputs": [
    {
     "name": "stdout",
     "output_type": "stream",
     "text": [
      "INFO:tensorflow:E:\\DSTI\\Python_workspace\\Soda Bottles\\my-model.tflearn is not in all_model_checkpoint_paths. Manually adding it.\n"
     ]
    }
   ],
   "source": [
    "model.save('my-model.tflearn')"
   ]
  },
  {
   "cell_type": "code",
   "execution_count": null,
   "metadata": {},
   "outputs": [],
   "source": []
  }
 ],
 "metadata": {
  "kernelspec": {
   "display_name": "Python 3",
   "language": "python",
   "name": "python3"
  },
  "language_info": {
   "codemirror_mode": {
    "name": "ipython",
    "version": 3
   },
   "file_extension": ".py",
   "mimetype": "text/x-python",
   "name": "python",
   "nbconvert_exporter": "python",
   "pygments_lexer": "ipython3",
   "version": "3.6.5"
  }
 },
 "nbformat": 4,
 "nbformat_minor": 2
}
